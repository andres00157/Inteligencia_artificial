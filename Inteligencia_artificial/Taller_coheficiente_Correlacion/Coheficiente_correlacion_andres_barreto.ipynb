{
  "nbformat": 4,
  "nbformat_minor": 0,
  "metadata": {
    "colab": {
      "name": "Coheficiente_correlacion_andres_barreto.ipynb",
      "provenance": [],
      "collapsed_sections": [],
      "authorship_tag": "ABX9TyPHlOXiz46oZFmUkx0Rxmfy",
      "include_colab_link": true
    },
    "kernelspec": {
      "name": "python3",
      "display_name": "Python 3"
    },
    "language_info": {
      "name": "python"
    }
  },
  "cells": [
    {
      "cell_type": "markdown",
      "metadata": {
        "id": "view-in-github",
        "colab_type": "text"
      },
      "source": [
        "<a href=\"https://colab.research.google.com/github/andres00157/Inteligencia_artificial/blob/main/Inteligencia_artificial/Taller_coheficiente_Correlacion/Coheficiente_correlacion_andres_barreto.ipynb\" target=\"_parent\"><img src=\"https://colab.research.google.com/assets/colab-badge.svg\" alt=\"Open In Colab\"/></a>"
      ]
    },
    {
      "cell_type": "code",
      "metadata": {
        "id": "Rb_ngPjQ9fp6"
      },
      "source": [
        "## Importando librerias\n",
        "import pandas as pd\n",
        "import numpy as np\n",
        "from matplotlib import pyplot as plt"
      ],
      "execution_count": 1,
      "outputs": []
    },
    {
      "cell_type": "code",
      "metadata": {
        "id": "9tWYYYld-OGn"
      },
      "source": [
        "\n",
        "# Funcion que determina el costo, recibe los parametros, los valores x, y Y\n",
        "def costo(parametos,x,y):\n",
        "    J = (sum((np.transpose(parametos) @ x-y)**2))/(2*x.shape[1])\n",
        "    return J\n",
        "\n",
        "# Realiza el gradiente.\n",
        "def gradiente(teta,x,y):\n",
        "    grad = ((np.transpose(teta) @ x-y) @ np.transpose(x))/x.shape[1]\n",
        "    return grad\n",
        "\n",
        "# Realiza el calculo de la recta\n",
        "def calculo_recta(x,y,theta_inicial,alpha,error_min,max_iteracion):\n",
        "    parametros = theta_inicial\n",
        "    for i in range(max_iteracion):\n",
        "        parametros = parametros- alpha * gradiente(parametros,x,y)\n",
        "        J = costo(parametros,x,y)\n",
        "        if(J<error_min):\n",
        "            break\n",
        "    return parametros, J\n",
        "\n",
        "# Calcula la recta deacuerdo con los parametros\n",
        "def calc_Recta(tetha,x):\n",
        "    y_est = np.transpose(x) @ tetha\n",
        "    return y_est\n",
        "\n",
        "# Realiza el calculo del R2, deacuerdo con las caracteristicas, etiquetas\n",
        "# y los parametros\n",
        "def R_cuadrado(x,y,tetha):\n",
        "    y_est = calc_Recta(tetha,x)\n",
        "    y_prom = sum(y)/y.shape[0]\n",
        "    R_cua= 1-(sum((y-y_est)**2))/(sum((y-y_prom)**2))\n",
        "    return R_cua"
      ],
      "execution_count": 2,
      "outputs": []
    },
    {
      "cell_type": "code",
      "metadata": {
        "colab": {
          "base_uri": "https://localhost:8080/",
          "height": 313
        },
        "id": "vqy9wX-p-Qrp",
        "outputId": "d2bcd5d9-9da0-4436-dfee-0c85ae353d35"
      },
      "source": [
        "# Creando variable x\n",
        "x = np.arange(1,6.5,0.5)\n",
        "x = np.array([np.ones_like(x),x])\n",
        "# Creando variable y\n",
        "y = np.array([0.169610271922408, 0.283395812542308, 0.386358737510785, 0.470227872390909, 0.433281293764675, 0.600267648212653, 0.738338980436742, 0.790315020494445, 0.877464268422459, 0.84356446225183, 0.96443891694455])\n",
        "\n",
        "parametros_min, J_min = calculo_recta(x,y,np.array([1,1]),0.032,0.000000001,10000)\n",
        "r = R_cuadrado(x,y,parametros_min)\n",
        "\n",
        "plt.plot(x[1,:],y)\n",
        "plt.plot(x[1,:],calc_Recta(parametros_min,x))\n",
        "plt.xlabel(\"Eje x\")\n",
        "plt.ylabel(\"Eje y\")\n",
        "plt.legend([\"Real\",\"Modelo\"])\n",
        "plt.show()\n",
        "\n",
        "print(\"Parametros hallados:\",parametros_min)\n",
        "print(\"Coheficiente de correlacion:\",r)"
      ],
      "execution_count": 8,
      "outputs": [
        {
          "output_type": "display_data",
          "data": {
            "image/png": "[encoded data removed]",
            "text/plain": [
              "<Figure size 432x288 with 1 Axes>"
            ]
          },
          "metadata": {
            "needs_background": "light"
          }
        },
        {
          "output_type": "stream",
          "name": "stdout",
          "text": [
            "Parametros hallados: [0.0467188 0.1569703]\n",
            "Coheficiente de correlacion: 0.9678913144832825\n"
          ]
        }
      ]
    }
  ]
}